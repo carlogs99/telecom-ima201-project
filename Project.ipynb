{
  "cells": [
    {
      "cell_type": "markdown",
      "metadata": {
        "id": "9JJdtCqYbEXd"
      },
      "source": [
        "## Imports"
      ]
    },
    {
      "cell_type": "code",
      "execution_count": 39,
      "metadata": {
        "id": "8Zx15V87bGzJ"
      },
      "outputs": [],
      "source": [
        "import numpy as np\n",
        "import matplotlib.pyplot as plt\n",
        "import seaborn as sns\n",
        "\n",
        "from skimage import io as skio\n",
        "from skimage import color\n",
        "from skimage import transform\n",
        "\n",
        "# For PSNR and SSIM\n",
        "import cv2\n",
        "from skimage.metrics import structural_similarity as ssim"
      ]
    },
    {
      "cell_type": "markdown",
      "metadata": {
        "id": "qV-HbvIGp47r"
      },
      "source": [
        "## Implementation"
      ]
    },
    {
      "cell_type": "code",
      "execution_count": 40,
      "metadata": {
        "id": "nECNLSG_DyBQ"
      },
      "outputs": [],
      "source": [
        "# Returns the indexes of the brightest pixels in the dark channel\n",
        "def brightest(dark_channel, percentage=0.1, show=False):\n",
        "  im_rows = np.shape(dark_channel)[0]\n",
        "  im_cols = np.shape(dark_channel)[1]\n",
        "  n_pixels = im_rows * im_cols\n",
        "  n_brightest = int(n_pixels*(percentage/100))\n",
        "  dark_channel = dark_channel.reshape(-1)\n",
        "  idx = np.argpartition(dark_channel, -n_brightest)[-n_brightest:]\n",
        "  if show:\n",
        "    # Create an empty array with the same shape as the dark_channel\n",
        "    highlighted_dark_channel = np.zeros((im_rows*im_cols, 3), dtype=np.uint8)\n",
        "    for i in range(len(dark_channel)):\n",
        "      if i in idx:\n",
        "        # Set the highlighted pixels to red\n",
        "        highlighted_dark_channel[i] = [255, 0, 0]  # Red color\n",
        "      else:\n",
        "        # Set the rest of the pixels in grayscale using the original values\n",
        "        dc_val = dark_channel[i]\n",
        "        highlighted_dark_channel[i] = [dc_val, dc_val, dc_val]\n",
        "    highlighted_dark_channel = highlighted_dark_channel.reshape((im_rows,im_cols,3))\n",
        "    plt.figure()\n",
        "    plt.title('Brightest pixels in dark channel')\n",
        "    plt.imshow(highlighted_dark_channel)\n",
        "    plt.show()\n",
        "  return idx\n",
        "\n",
        "# Calculates the dark channel value of a local patch\n",
        "def calc_dark_channel_patch(patch):\n",
        "  min_r = np.min(patch[:,:,0])\n",
        "  min_g = np.min(patch[:,:,1])\n",
        "  min_b = np.min(patch[:,:,2])\n",
        "  dark_ch = np.min([min_r, min_g, min_b])\n",
        "  return dark_ch\n",
        "\n",
        "# Calculates the dark channel of an image\n",
        "def calc_dark_channel_im(im, patch_size_x=15, patch_size_y=15, show=False):\n",
        "  dark_ch = np.zeros_like(im)[:,:,0] # zeros_like copies size and datatype\n",
        "  im_rows = np.shape(im)[0]\n",
        "  im_cols = np.shape(im)[1]\n",
        "  half_patch_x = patch_size_x // 2\n",
        "  half_patch_y = patch_size_y // 2\n",
        "  for i in range(im_rows):\n",
        "    for j in range(im_cols):\n",
        "      start_y = max(0, i-half_patch_y)\n",
        "      stop_y = min(im_rows, i+half_patch_y+1)\n",
        "      start_x = max(0, j-half_patch_x)\n",
        "      stop_x = min(im_cols, j+half_patch_x+1)\n",
        "      patch = im[start_y:stop_y, start_x:stop_x]\n",
        "      dark_ch[i,j] = calc_dark_channel_patch(patch)\n",
        "  # Optional:\n",
        "  if show:\n",
        "    plt.figure()\n",
        "    plt.title('Dark channel')\n",
        "    plt.imshow(dark_ch, cmap='gray')\n",
        "    plt.show()\n",
        "  return dark_ch\n",
        "\n",
        "def calc_atm_light(im, patch_size_x=15, patch_size_y=15, perc=0.1, show=False):\n",
        "  dark_channel = calc_dark_channel_im(im, patch_size_x, patch_size_y, show=show)\n",
        "  indexes_brightest = brightest(dark_channel, perc, show=show)\n",
        "  im_rows = np.shape(im)[0]\n",
        "  im_cols = np.shape(im)[1]\n",
        "  flat_im = np.reshape(im, (im_rows * im_cols, 3))\n",
        "  candidate = [0,0,0]\n",
        "  for i in indexes_brightest:\n",
        "    if np.max(flat_im[i]) > np.max(candidate):\n",
        "      candidate = flat_im[i]\n",
        "  atm_light = candidate\n",
        "  if show:\n",
        "    plt.figure()\n",
        "    plt.title('Estimated atmospheric light')\n",
        "    plt.imshow(np.full((100, 100, 3), atm_light, dtype=np.uint8))\n",
        "    plt.show()\n",
        "  return atm_light\n",
        "\n",
        "def calc_transmission(im, patch_size_x=15, patch_size_y=15, perc=0.1, omega=0.95, show=False):\n",
        "  im_rows = np.shape(im)[0]\n",
        "  im_cols = np.shape(im)[1]\n",
        "  transmission = np.zeros((im_rows, im_cols), dtype=np.float64)\n",
        "  atm_light = calc_atm_light(im, patch_size_x, patch_size_y, perc, show=show)\n",
        "  half_patch_x = patch_size_x // 2\n",
        "  half_patch_y = patch_size_y // 2\n",
        "  for i in range(im_rows):\n",
        "    for j in range(im_cols):\n",
        "      start_y = max(0, i-half_patch_y)\n",
        "      stop_y = min(im_rows, i+half_patch_y+1)\n",
        "      start_x = max(0, j-half_patch_x)\n",
        "      stop_x = min(im_cols, j+half_patch_x+1)\n",
        "      patch = im[start_y:stop_y, start_x:stop_x]\n",
        "      min_r = np.min(patch[:,:,0])/atm_light[0]\n",
        "      min_g = np.min(patch[:,:,1])/atm_light[1]\n",
        "      min_b = np.min(patch[:,:,2])/atm_light[2]\n",
        "      min_c = np.min([min_r, min_g, min_b])\n",
        "      transmission[i,j] = 1.0 - omega*min_c\n",
        "  if show:\n",
        "    plt.figure()\n",
        "    plt.title('Estimated transmission')\n",
        "    plt.imshow(transmission*255, cmap='gray')\n",
        "    plt.show()\n",
        "  return transmission, atm_light\n",
        "\n",
        "def guided_filter(input_im, r=20, epsilon=0.001, guidance_im=None, show=False):\n",
        "  if guidance_im is None:\n",
        "    guidance_im = input_im\n",
        "  A = np.zeros_like(input_im)\n",
        "  B = np.zeros_like(input_im)\n",
        "  output_im = np.zeros_like(input_im)\n",
        "  im_rows = np.shape(input_im)[0]\n",
        "  im_cols = np.shape(input_im)[1]\n",
        "  for i in range(im_rows):\n",
        "    for j in range(im_cols):\n",
        "      # Define patch\n",
        "      start_y = max(0, i-r)\n",
        "      stop_y = min(im_rows, i+r+1)\n",
        "      start_x = max(0, j-r)\n",
        "      stop_x = min(im_cols, j+r+1)\n",
        "      # Compute a and b for the patch\n",
        "      patch_I = guidance_im[start_y:stop_y, start_x:stop_x]\n",
        "      patch_p = input_im[start_y:stop_y, start_x:stop_x]\n",
        "      patch_I2 = np.multiply(patch_I, patch_I)\n",
        "      patch_Ip = np.multiply(patch_I, patch_p)\n",
        "      mean_I = np.mean(patch_I)\n",
        "      mean_p = np.mean(patch_p)\n",
        "      corr_I = np.mean(patch_I2)\n",
        "      corr_Ip = np.mean(patch_Ip)\n",
        "      var_I = corr_I - np.multiply(mean_I, mean_I)\n",
        "      cov_Ip = corr_Ip - np.multiply(mean_I, mean_p)\n",
        "      a = np.divide(cov_Ip, var_I + epsilon)\n",
        "      b = mean_p - np.multiply(a, mean_I)\n",
        "      # Store a and b\n",
        "      A[i,j] = a\n",
        "      B[i,j] = b\n",
        "  for i in range(im_rows):\n",
        "    for j in range(im_cols):\n",
        "      # Define patch\n",
        "      start_y = max(0, i-r)\n",
        "      stop_y = min(im_rows, i+r+1)\n",
        "      start_x = max(0, j-r)\n",
        "      stop_x = min(im_cols, j+r+1)\n",
        "      # Compute mean a and b for the patch\n",
        "      mean_a = np.mean(A[start_y:stop_y, start_x:stop_x])\n",
        "      mean_b = np.mean(B[start_y:stop_y, start_x:stop_x])\n",
        "      # Compute output\n",
        "      output_im[i,j] = mean_a*guidance_im[i,j] + mean_b\n",
        "  if show:\n",
        "    plt.figure()\n",
        "    plt.title('Soft-matted transmission')\n",
        "    plt.imshow(output_im*255, cmap='gray')\n",
        "    plt.show()\n",
        "  return output_im\n",
        "\n",
        "def remove_haze(path_input, path_output, max_size=600, patch_size_x=15, patch_size_y=15,\n",
        "                perc=0.1, omega=0.95,\n",
        "                r=20, epsilon=0.001, t0=0.1, show=False, contrast=1):\n",
        "  # Open and show an input image\n",
        "  im = np.float64(skio.imread(path_input))\n",
        "  # Calculate new dimensions while maintaining the aspect ratio\n",
        "  height, width = im.shape[:2]\n",
        "  if (max(height, width) > max_size and max_size != None):\n",
        "    if height > width:\n",
        "      new_height = max_size\n",
        "      new_width = int(width * (max_size / height))\n",
        "    else:\n",
        "      new_width = max_size\n",
        "      new_height = int(height * (max_size / width))\n",
        "    # Resize the image to the calculated dimensions\n",
        "    im = transform.resize(im, (new_height, new_width))\n",
        "    skio.imsave(path_input, im.astype(np.uint8))\n",
        "\n",
        "  if show:\n",
        "    plt.figure()\n",
        "    plt.title('Input image')\n",
        "    plt.imshow(np.divide(im,255))\n",
        "    plt.show()\n",
        "\n",
        "  # Convert im to grayscale for use in soft-matting\n",
        "  bw_im = color.rgb2gray(im)\n",
        "\n",
        "  # Compute input image transmission\n",
        "  transmission, atm_light = calc_transmission(im, patch_size_x=patch_size_x,\n",
        "                                   patch_size_y=patch_size_y,\n",
        "                                   perc=perc, omega=omega, show=show)\n",
        "\n",
        "  # Compute soft-matting for the transmission\n",
        "  soft_matted_tr = guided_filter(transmission, r=r,\n",
        "                                 epsilon=epsilon, guidance_im=bw_im, show=show)\n",
        "\n",
        "  # Bound t(x) with t0\n",
        "  t = np.clip(soft_matted_tr, a_min=t0, a_max=None)\n",
        "  if show:\n",
        "    plt.figure()\n",
        "    plt.title('Transmission after clipping with t0')\n",
        "    plt.imshow(t*255, cmap='gray')\n",
        "    plt.show()\n",
        "\n",
        "  # Recover scene radiance\n",
        "  im_rows = np.shape(im)[0]\n",
        "  im_cols = np.shape(im)[1]\n",
        "  output = np.zeros_like(im)\n",
        "  for i in range(im_rows):\n",
        "    for j in range(im_cols):\n",
        "      num = np.subtract(im[i,j], atm_light)\n",
        "      frac = np.divide(num, t[i,j])\n",
        "      output[i,j] = np.add(frac, atm_light)\n",
        "\n",
        "  clipped_output = ((output+np.abs(output.min()))/(output.max()+np.abs(output.min())))\n",
        "  skio.imsave(path_output, (clipped_output*255).astype(np.uint8))\n",
        "  if show:\n",
        "    plt.figure()\n",
        "    plt.title('Output image')\n",
        "    plt.imshow(clipped_output)\n",
        "    plt.show()\n",
        "  return output"
      ]
    },
    {
      "cell_type": "markdown",
      "metadata": {
        "id": "XHYJsLqFye5Y"
      },
      "source": [
        "## Experiments"
      ]
    },
    {
      "cell_type": "markdown",
      "source": [
        "Dehaze 1 image:"
      ],
      "metadata": {
        "id": "BdiMfKoa_2J-"
      }
    },
    {
      "cell_type": "code",
      "execution_count": null,
      "metadata": {
        "id": "_R_sKUCdyeNC"
      },
      "outputs": [],
      "source": [
        "output = remove_haze('./bad-2.jpg', './output.jpg', max_size=800, omega=0.75, perc=0.1, contrast=1.1, r=50, t0=0.2, show=True)"
      ]
    },
    {
      "cell_type": "markdown",
      "source": [
        "Dehaze a set of images:"
      ],
      "metadata": {
        "id": "ddCHbkQvAAcg"
      }
    },
    {
      "cell_type": "code",
      "execution_count": null,
      "metadata": {
        "colab": {
          "background_save": true
        },
        "id": "cU5um8okXm0g"
      },
      "outputs": [],
      "source": [
        "for i in range(10):\n",
        "  print(i)\n",
        "  output = remove_haze(f'./{i}.jpg', f'./{i}_output.jpg', max_size=1200, omega=0.75, r=50, contrast=1.2, show=False)"
      ]
    },
    {
      "cell_type": "markdown",
      "source": [
        "Plot histograms of the dark channel of an image:"
      ],
      "metadata": {
        "id": "giKT-Az_ADqo"
      }
    },
    {
      "cell_type": "code",
      "source": [
        "def plot_dc_histogram(image_path):\n",
        "    # Read the grayscale image\n",
        "    im = skio.imread(image_path)\n",
        "\n",
        "    # Calculate the dc\n",
        "    dc = calc_dark_channel_im(im, patch_size_x=15, patch_size_y=15, show=False)\n",
        "\n",
        "    # Calculate the histogram\n",
        "    histogram, bin_edges = np.histogram(dc, bins=256)\n",
        "\n",
        "    # Calculate the cumulative histogram\n",
        "    cumulative_histogram = np.cumsum(histogram)\n",
        "\n",
        "    # Set up subplots\n",
        "    sns.set(style=\"ticks\", context=\"paper\")\n",
        "    fig, axs = plt.subplots(nrows=2, figsize=(8, 8))\n",
        "\n",
        "    # Plot the original image and the dark channel\n",
        "    axs[0].imshow(im, cmap='gray')\n",
        "    axs[0].set_title(\"Original Image\")\n",
        "    axs[0].axis('off')\n",
        "\n",
        "    axs[1].imshow(dc, cmap='gray')\n",
        "    axs[1].set_title(\"Dark Channel\")\n",
        "    axs[1].axis('off')\n",
        "\n",
        "    # Set up subplots for histograms\n",
        "    fig, axs_hist = plt.subplots(nrows=2, figsize=(4, 6))\n",
        "\n",
        "    # Plot the histogram\n",
        "    sns.lineplot(x=bin_edges[0:-1], y=histogram, ax=axs_hist[0])\n",
        "    axs_hist[0].set(xlabel=\"Intensity value\", ylabel=\"Frequency\")\n",
        "    axs_hist[0].set_title(\"Histogram\")\n",
        "    sns.despine()\n",
        "\n",
        "    # Plot the cumulative histogram\n",
        "    sns.lineplot(x=bin_edges[0:-1], y=cumulative_histogram, ax=axs_hist[1], color='orange')\n",
        "    axs_hist[1].set(xlabel=\"Intensity value\", ylabel=\"Cumulative Frequency\")\n",
        "    axs_hist[1].set_title(\"Cumulative Histogram\")\n",
        "    sns.despine()\n",
        "\n",
        "    plt.tight_layout()\n",
        "    plt.show()\n",
        "\n",
        "# Example usage\n",
        "image_path = './test.jpg'\n",
        "plot_dc_histogram(image_path)"
      ],
      "metadata": {
        "id": "AhRg0BRh__qx"
      },
      "execution_count": null,
      "outputs": []
    },
    {
      "cell_type": "markdown",
      "source": [
        "Calculate PSRN and SSIM with varying parameters:"
      ],
      "metadata": {
        "id": "xzv8Rge2AsT_"
      }
    },
    {
      "cell_type": "code",
      "execution_count": null,
      "metadata": {
        "id": "dVrA2sw302fK"
      },
      "outputs": [],
      "source": [
        "omegas = [0.55, 0.65, 0.7, 0.75, 0.8, 0.9]\n",
        "#rs = [20, 30, 40, 50, 60, 70]\n",
        "\n",
        "psnr_array = []\n",
        "ssim_array = []\n",
        "for o in omegas:\n",
        "  # Dehaze\n",
        "  print(f'omega = {o}...')\n",
        "  #print(f'r = {r}...')\n",
        "\n",
        "  output = remove_haze('./0-haze.jpg', f'./o-{o}-output.jpg', max_size=600, omega=o, perc=0.1, contrast=1.1, r=50, show=False)\n",
        "  #output = remove_haze('./0-haze.jpg', f'./r-{r}-output.jpg', max_size=600, omega=0.75, perc=0.1, contrast=1.1, r=r, show=False)\n",
        "\n",
        "  # We compare our dehazing result with the original hazeless image\n",
        "  input = cv2.imread('./0.jpg')\n",
        "  output = cv2.imread(f'./o-{o}-output.jpg')\n",
        "  #output = cv2.imread(f'./r-{r}-output.jpg')\n",
        "\n",
        "  # Calc PSNR\n",
        "  p = cv2.PSNR(input, output)\n",
        "  psnr_array.append(p)\n",
        "\n",
        "  # Calc SSIM\n",
        "  s = ssim(input, output, channel_axis=2)\n",
        "  ssim_array.append(s)"
      ]
    },
    {
      "cell_type": "markdown",
      "source": [
        "Plot PSNR and SSIM:"
      ],
      "metadata": {
        "id": "vpLBrvSdBRgu"
      }
    },
    {
      "cell_type": "code",
      "execution_count": null,
      "metadata": {
        "id": "33jd4rE8_xcd"
      },
      "outputs": [],
      "source": [
        "sns.set(style=\"ticks\", context=\"paper\")\n",
        "fig, ax = plt.subplots()\n",
        "\n",
        "sns.lineplot(x=omegas, y=psnr_array, label=\"PSNR\", ax=ax)\n",
        "#sns.lineplot(x=omegas, y=ssim_array, label=\"SSIM\", ax=ax)\n",
        "\n",
        "ax.set(xlabel=\"omega\", ylabel=\"Score\")\n",
        "ax.legend()\n",
        "sns.despine()\n",
        "\n",
        "plt.show()"
      ]
    }
  ],
  "metadata": {
    "colab": {
      "provenance": []
    },
    "kernelspec": {
      "display_name": "Python 3",
      "name": "python3"
    },
    "language_info": {
      "name": "python"
    }
  },
  "nbformat": 4,
  "nbformat_minor": 0
}